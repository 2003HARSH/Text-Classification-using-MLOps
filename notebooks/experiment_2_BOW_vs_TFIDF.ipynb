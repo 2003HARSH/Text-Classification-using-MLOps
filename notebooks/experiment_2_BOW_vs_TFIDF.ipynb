{
 "cells": [
  {
   "cell_type": "code",
   "execution_count": 2,
   "metadata": {},
   "outputs": [
    {
     "data": {
      "text/html": [
       "<pre style=\"white-space:pre;overflow-x:auto;line-height:normal;font-family:Menlo,'DejaVu Sans Mono',consolas,'Courier New',monospace\">Initialized MLflow to track repo <span style=\"color: #008000; text-decoration-color: #008000\">\"2003HARSH/Text-Classification-using-MLOps\"</span>\n",
       "</pre>\n"
      ],
      "text/plain": [
       "Initialized MLflow to track repo \u001b[32m\"2003HARSH/Text-Classification-using-MLOps\"\u001b[0m\n"
      ]
     },
     "metadata": {},
     "output_type": "display_data"
    },
    {
     "data": {
      "text/html": [
       "<pre style=\"white-space:pre;overflow-x:auto;line-height:normal;font-family:Menlo,'DejaVu Sans Mono',consolas,'Courier New',monospace\">Repository 2003HARSH/Text-Classification-using-MLOps initialized!\n",
       "</pre>\n"
      ],
      "text/plain": [
       "Repository 2003HARSH/Text-Classification-using-MLOps initialized!\n"
      ]
     },
     "metadata": {},
     "output_type": "display_data"
    },
    {
     "name": "stderr",
     "output_type": "stream",
     "text": [
      "C:\\Users\\harsh\\AppData\\Local\\Temp\\ipykernel_11336\\2927107986.py:87: FutureWarning: Downcasting behavior in `replace` is deprecated and will be removed in a future version. To retain the old behavior, explicitly call `result.infer_objects(copy=False)`. To opt-in to the future behavior, set `pd.set_option('future.no_silent_downcasting', True)`\n",
      "  df['sentiment'] = df['sentiment'].replace({'sadness':0, 'happiness':1})\n",
      "c:\\Users\\harsh\\Desktop\\Text-Classification-using-MLOps\\venv\\lib\\site-packages\\mlflow\\types\\utils.py:407: UserWarning: Hint: Inferred schema contains integer column(s). Integer columns in Python cannot represent missing values. If your input data contains missing values at inference time, it will be encoded as floats and will cause a schema enforcement error. The best way to avoid this problem is to infer the model schema based on a realistic data sample (training dataset) that includes missing values. Alternatively, you can declare integer columns as doubles (float64) whenever these columns may have missing values. See `Handling Integers With Missing Values <https://www.mlflow.org/docs/latest/models.html#handling-integers-with-missing-values>`_ for more details.\n",
      "  warnings.warn(\n"
     ]
    },
    {
     "name": "stdout",
     "output_type": "stream",
     "text": [
      "Algorithm: LogisticRegression, Feature Engineering: BoW\n",
      "Accuracy: 0.7951807228915663\n",
      "Precision: 0.7858527131782945\n",
      "Recall: 0.7990147783251231\n",
      "F1 Score: 0.7923790913531998\n"
     ]
    },
    {
     "name": "stderr",
     "output_type": "stream",
     "text": [
      "2024/11/04 19:14:09 INFO mlflow.tracking._tracking_service.client: 🏃 View run LogisticRegression with BoW at: https://dagshub.com/2003HARSH/Text-Classification-using-MLOps.mlflow/#/experiments/2/runs/877726825e0e43b88bac472f8e5ee415.\n",
      "2024/11/04 19:14:09 INFO mlflow.tracking._tracking_service.client: 🧪 View experiment at: https://dagshub.com/2003HARSH/Text-Classification-using-MLOps.mlflow/#/experiments/2.\n",
      "c:\\Users\\harsh\\Desktop\\Text-Classification-using-MLOps\\venv\\lib\\site-packages\\mlflow\\types\\utils.py:407: UserWarning: Hint: Inferred schema contains integer column(s). Integer columns in Python cannot represent missing values. If your input data contains missing values at inference time, it will be encoded as floats and will cause a schema enforcement error. The best way to avoid this problem is to infer the model schema based on a realistic data sample (training dataset) that includes missing values. Alternatively, you can declare integer columns as doubles (float64) whenever these columns may have missing values. See `Handling Integers With Missing Values <https://www.mlflow.org/docs/latest/models.html#handling-integers-with-missing-values>`_ for more details.\n",
      "  warnings.warn(\n"
     ]
    },
    {
     "name": "stdout",
     "output_type": "stream",
     "text": [
      "Algorithm: LogisticRegression, Feature Engineering: TF-IDF\n",
      "Accuracy: 0.7946987951807228\n",
      "Precision: 0.7791469194312797\n",
      "Recall: 0.8098522167487685\n",
      "F1 Score: 0.7942028985507247\n"
     ]
    },
    {
     "name": "stderr",
     "output_type": "stream",
     "text": [
      "2024/11/04 19:14:49 INFO mlflow.tracking._tracking_service.client: 🏃 View run LogisticRegression with TF-IDF at: https://dagshub.com/2003HARSH/Text-Classification-using-MLOps.mlflow/#/experiments/2/runs/643d7dc7423e437e9343afe7e9e4a45a.\n",
      "2024/11/04 19:14:49 INFO mlflow.tracking._tracking_service.client: 🧪 View experiment at: https://dagshub.com/2003HARSH/Text-Classification-using-MLOps.mlflow/#/experiments/2.\n",
      "c:\\Users\\harsh\\Desktop\\Text-Classification-using-MLOps\\venv\\lib\\site-packages\\mlflow\\types\\utils.py:407: UserWarning: Hint: Inferred schema contains integer column(s). Integer columns in Python cannot represent missing values. If your input data contains missing values at inference time, it will be encoded as floats and will cause a schema enforcement error. The best way to avoid this problem is to infer the model schema based on a realistic data sample (training dataset) that includes missing values. Alternatively, you can declare integer columns as doubles (float64) whenever these columns may have missing values. See `Handling Integers With Missing Values <https://www.mlflow.org/docs/latest/models.html#handling-integers-with-missing-values>`_ for more details.\n",
      "  warnings.warn(\n"
     ]
    },
    {
     "name": "stdout",
     "output_type": "stream",
     "text": [
      "Algorithm: MultinomialNB, Feature Engineering: BoW\n",
      "Accuracy: 0.7836144578313253\n",
      "Precision: 0.7801980198019802\n",
      "Recall: 0.7763546798029557\n",
      "F1 Score: 0.7782716049382716\n"
     ]
    },
    {
     "name": "stderr",
     "output_type": "stream",
     "text": [
      "2024/11/04 19:15:36 INFO mlflow.tracking._tracking_service.client: 🏃 View run MultinomialNB with BoW at: https://dagshub.com/2003HARSH/Text-Classification-using-MLOps.mlflow/#/experiments/2/runs/0674c732aa8f42628df63cc65f69dac1.\n",
      "2024/11/04 19:15:36 INFO mlflow.tracking._tracking_service.client: 🧪 View experiment at: https://dagshub.com/2003HARSH/Text-Classification-using-MLOps.mlflow/#/experiments/2.\n",
      "c:\\Users\\harsh\\Desktop\\Text-Classification-using-MLOps\\venv\\lib\\site-packages\\mlflow\\types\\utils.py:407: UserWarning: Hint: Inferred schema contains integer column(s). Integer columns in Python cannot represent missing values. If your input data contains missing values at inference time, it will be encoded as floats and will cause a schema enforcement error. The best way to avoid this problem is to infer the model schema based on a realistic data sample (training dataset) that includes missing values. Alternatively, you can declare integer columns as doubles (float64) whenever these columns may have missing values. See `Handling Integers With Missing Values <https://www.mlflow.org/docs/latest/models.html#handling-integers-with-missing-values>`_ for more details.\n",
      "  warnings.warn(\n"
     ]
    },
    {
     "name": "stdout",
     "output_type": "stream",
     "text": [
      "Algorithm: MultinomialNB, Feature Engineering: TF-IDF\n",
      "Accuracy: 0.7831325301204819\n",
      "Precision: 0.7745383867832848\n",
      "Recall: 0.7852216748768472\n",
      "F1 Score: 0.7798434442270059\n"
     ]
    },
    {
     "name": "stderr",
     "output_type": "stream",
     "text": [
      "2024/11/04 19:16:10 INFO mlflow.tracking._tracking_service.client: 🏃 View run MultinomialNB with TF-IDF at: https://dagshub.com/2003HARSH/Text-Classification-using-MLOps.mlflow/#/experiments/2/runs/8de75197f81f4edd9ed106449f5170ec.\n",
      "2024/11/04 19:16:10 INFO mlflow.tracking._tracking_service.client: 🧪 View experiment at: https://dagshub.com/2003HARSH/Text-Classification-using-MLOps.mlflow/#/experiments/2.\n",
      "c:\\Users\\harsh\\Desktop\\Text-Classification-using-MLOps\\venv\\lib\\site-packages\\mlflow\\types\\utils.py:407: UserWarning: Hint: Inferred schema contains integer column(s). Integer columns in Python cannot represent missing values. If your input data contains missing values at inference time, it will be encoded as floats and will cause a schema enforcement error. The best way to avoid this problem is to infer the model schema based on a realistic data sample (training dataset) that includes missing values. Alternatively, you can declare integer columns as doubles (float64) whenever these columns may have missing values. See `Handling Integers With Missing Values <https://www.mlflow.org/docs/latest/models.html#handling-integers-with-missing-values>`_ for more details.\n",
      "  warnings.warn(\n"
     ]
    },
    {
     "name": "stdout",
     "output_type": "stream",
     "text": [
      "Algorithm: XGBoost, Feature Engineering: BoW\n",
      "Accuracy: 0.7739759036144578\n",
      "Precision: 0.7954545454545454\n",
      "Recall: 0.7241379310344828\n",
      "F1 Score: 0.7581227436823105\n"
     ]
    },
    {
     "name": "stderr",
     "output_type": "stream",
     "text": [
      "2024/11/04 19:16:44 INFO mlflow.tracking._tracking_service.client: 🏃 View run XGBoost with BoW at: https://dagshub.com/2003HARSH/Text-Classification-using-MLOps.mlflow/#/experiments/2/runs/28f6115548a241d9811f187b111d643e.\n",
      "2024/11/04 19:16:44 INFO mlflow.tracking._tracking_service.client: 🧪 View experiment at: https://dagshub.com/2003HARSH/Text-Classification-using-MLOps.mlflow/#/experiments/2.\n",
      "c:\\Users\\harsh\\Desktop\\Text-Classification-using-MLOps\\venv\\lib\\site-packages\\mlflow\\types\\utils.py:407: UserWarning: Hint: Inferred schema contains integer column(s). Integer columns in Python cannot represent missing values. If your input data contains missing values at inference time, it will be encoded as floats and will cause a schema enforcement error. The best way to avoid this problem is to infer the model schema based on a realistic data sample (training dataset) that includes missing values. Alternatively, you can declare integer columns as doubles (float64) whenever these columns may have missing values. See `Handling Integers With Missing Values <https://www.mlflow.org/docs/latest/models.html#handling-integers-with-missing-values>`_ for more details.\n",
      "  warnings.warn(\n"
     ]
    },
    {
     "name": "stdout",
     "output_type": "stream",
     "text": [
      "Algorithm: XGBoost, Feature Engineering: TF-IDF\n",
      "Accuracy: 0.7614457831325301\n",
      "Precision: 0.7192242833052277\n",
      "Recall: 0.8403940886699507\n",
      "F1 Score: 0.7751022262607905\n"
     ]
    },
    {
     "name": "stderr",
     "output_type": "stream",
     "text": [
      "2024/11/04 19:17:31 INFO mlflow.tracking._tracking_service.client: 🏃 View run XGBoost with TF-IDF at: https://dagshub.com/2003HARSH/Text-Classification-using-MLOps.mlflow/#/experiments/2/runs/e33dfc106c094f25b4a32e8e42c47d2c.\n",
      "2024/11/04 19:17:31 INFO mlflow.tracking._tracking_service.client: 🧪 View experiment at: https://dagshub.com/2003HARSH/Text-Classification-using-MLOps.mlflow/#/experiments/2.\n",
      "c:\\Users\\harsh\\Desktop\\Text-Classification-using-MLOps\\venv\\lib\\site-packages\\mlflow\\types\\utils.py:407: UserWarning: Hint: Inferred schema contains integer column(s). Integer columns in Python cannot represent missing values. If your input data contains missing values at inference time, it will be encoded as floats and will cause a schema enforcement error. The best way to avoid this problem is to infer the model schema based on a realistic data sample (training dataset) that includes missing values. Alternatively, you can declare integer columns as doubles (float64) whenever these columns may have missing values. See `Handling Integers With Missing Values <https://www.mlflow.org/docs/latest/models.html#handling-integers-with-missing-values>`_ for more details.\n",
      "  warnings.warn(\n"
     ]
    },
    {
     "name": "stdout",
     "output_type": "stream",
     "text": [
      "Algorithm: RandomForest, Feature Engineering: BoW\n",
      "Accuracy: 0.7686746987951807\n",
      "Precision: 0.7766287487073423\n",
      "Recall: 0.7399014778325124\n",
      "F1 Score: 0.7578203834510595\n"
     ]
    },
    {
     "name": "stderr",
     "output_type": "stream",
     "text": [
      "2024/11/04 19:18:44 INFO mlflow.tracking._tracking_service.client: 🏃 View run RandomForest with BoW at: https://dagshub.com/2003HARSH/Text-Classification-using-MLOps.mlflow/#/experiments/2/runs/647d0ac910804ad4acc583002cfd6c03.\n",
      "2024/11/04 19:18:44 INFO mlflow.tracking._tracking_service.client: 🧪 View experiment at: https://dagshub.com/2003HARSH/Text-Classification-using-MLOps.mlflow/#/experiments/2.\n",
      "c:\\Users\\harsh\\Desktop\\Text-Classification-using-MLOps\\venv\\lib\\site-packages\\mlflow\\types\\utils.py:407: UserWarning: Hint: Inferred schema contains integer column(s). Integer columns in Python cannot represent missing values. If your input data contains missing values at inference time, it will be encoded as floats and will cause a schema enforcement error. The best way to avoid this problem is to infer the model schema based on a realistic data sample (training dataset) that includes missing values. Alternatively, you can declare integer columns as doubles (float64) whenever these columns may have missing values. See `Handling Integers With Missing Values <https://www.mlflow.org/docs/latest/models.html#handling-integers-with-missing-values>`_ for more details.\n",
      "  warnings.warn(\n"
     ]
    },
    {
     "name": "stdout",
     "output_type": "stream",
     "text": [
      "Algorithm: RandomForest, Feature Engineering: TF-IDF\n",
      "Accuracy: 0.7633734939759036\n",
      "Precision: 0.7668024439918534\n",
      "Recall: 0.741871921182266\n",
      "F1 Score: 0.7541311967951928\n"
     ]
    },
    {
     "name": "stderr",
     "output_type": "stream",
     "text": [
      "2024/11/04 19:20:13 INFO mlflow.tracking._tracking_service.client: 🏃 View run RandomForest with TF-IDF at: https://dagshub.com/2003HARSH/Text-Classification-using-MLOps.mlflow/#/experiments/2/runs/05e4c13aa79b4394af44734c4ccb6d09.\n",
      "2024/11/04 19:20:13 INFO mlflow.tracking._tracking_service.client: 🧪 View experiment at: https://dagshub.com/2003HARSH/Text-Classification-using-MLOps.mlflow/#/experiments/2.\n",
      "c:\\Users\\harsh\\Desktop\\Text-Classification-using-MLOps\\venv\\lib\\site-packages\\mlflow\\types\\utils.py:407: UserWarning: Hint: Inferred schema contains integer column(s). Integer columns in Python cannot represent missing values. If your input data contains missing values at inference time, it will be encoded as floats and will cause a schema enforcement error. The best way to avoid this problem is to infer the model schema based on a realistic data sample (training dataset) that includes missing values. Alternatively, you can declare integer columns as doubles (float64) whenever these columns may have missing values. See `Handling Integers With Missing Values <https://www.mlflow.org/docs/latest/models.html#handling-integers-with-missing-values>`_ for more details.\n",
      "  warnings.warn(\n"
     ]
    },
    {
     "name": "stdout",
     "output_type": "stream",
     "text": [
      "Algorithm: GradientBoosting, Feature Engineering: BoW\n",
      "Accuracy: 0.7272289156626506\n",
      "Precision: 0.7997329773030708\n",
      "Recall: 0.5901477832512315\n",
      "F1 Score: 0.6791383219954649\n"
     ]
    },
    {
     "name": "stderr",
     "output_type": "stream",
     "text": [
      "2024/11/04 19:21:10 INFO mlflow.tracking._tracking_service.client: 🏃 View run GradientBoosting with BoW at: https://dagshub.com/2003HARSH/Text-Classification-using-MLOps.mlflow/#/experiments/2/runs/22b4b7fba2aa4913a80d745a1048005d.\n",
      "2024/11/04 19:21:10 INFO mlflow.tracking._tracking_service.client: 🧪 View experiment at: https://dagshub.com/2003HARSH/Text-Classification-using-MLOps.mlflow/#/experiments/2.\n",
      "c:\\Users\\harsh\\Desktop\\Text-Classification-using-MLOps\\venv\\lib\\site-packages\\mlflow\\types\\utils.py:407: UserWarning: Hint: Inferred schema contains integer column(s). Integer columns in Python cannot represent missing values. If your input data contains missing values at inference time, it will be encoded as floats and will cause a schema enforcement error. The best way to avoid this problem is to infer the model schema based on a realistic data sample (training dataset) that includes missing values. Alternatively, you can declare integer columns as doubles (float64) whenever these columns may have missing values. See `Handling Integers With Missing Values <https://www.mlflow.org/docs/latest/models.html#handling-integers-with-missing-values>`_ for more details.\n",
      "  warnings.warn(\n"
     ]
    },
    {
     "name": "stdout",
     "output_type": "stream",
     "text": [
      "Algorithm: GradientBoosting, Feature Engineering: TF-IDF\n",
      "Accuracy: 0.7257831325301205\n",
      "Precision: 0.8071625344352618\n",
      "Recall: 0.5773399014778325\n",
      "F1 Score: 0.6731763354394027\n"
     ]
    },
    {
     "name": "stderr",
     "output_type": "stream",
     "text": [
      "2024/11/04 19:22:21 INFO mlflow.tracking._tracking_service.client: 🏃 View run GradientBoosting with TF-IDF at: https://dagshub.com/2003HARSH/Text-Classification-using-MLOps.mlflow/#/experiments/2/runs/9ad0a0ce22c54689af49bc7522047f23.\n",
      "2024/11/04 19:22:21 INFO mlflow.tracking._tracking_service.client: 🧪 View experiment at: https://dagshub.com/2003HARSH/Text-Classification-using-MLOps.mlflow/#/experiments/2.\n",
      "2024/11/04 19:22:22 INFO mlflow.tracking._tracking_service.client: 🏃 View run All Experiments at: https://dagshub.com/2003HARSH/Text-Classification-using-MLOps.mlflow/#/experiments/2/runs/352bcfe8aa7f48638c9a98e0719a9b70.\n",
      "2024/11/04 19:22:22 INFO mlflow.tracking._tracking_service.client: 🧪 View experiment at: https://dagshub.com/2003HARSH/Text-Classification-using-MLOps.mlflow/#/experiments/2.\n"
     ]
    }
   ],
   "source": [
    "# bow vs tfidf\n",
    "\n",
    "# Import necessary libraries\n",
    "import mlflow\n",
    "import mlflow.sklearn\n",
    "from sklearn.feature_extraction.text import CountVectorizer, TfidfVectorizer\n",
    "from sklearn.model_selection import train_test_split\n",
    "from sklearn.linear_model import LogisticRegression\n",
    "from sklearn.naive_bayes import MultinomialNB\n",
    "from xgboost import XGBClassifier\n",
    "from sklearn.ensemble import RandomForestClassifier, GradientBoostingClassifier\n",
    "from sklearn.metrics import accuracy_score, precision_score, recall_score, f1_score\n",
    "import pandas as pd\n",
    "import re\n",
    "import string\n",
    "from nltk.corpus import stopwords\n",
    "from nltk.stem import WordNetLemmatizer\n",
    "import numpy as np\n",
    "import os\n",
    "\n",
    "import dagshub\n",
    "\n",
    "mlflow.set_tracking_uri('https://dagshub.com/2003HARSH/Text-Classification-using-MLOps.mlflow')\n",
    "dagshub.init(repo_owner='2003HARSH', repo_name='Text-Classification-using-MLOps', mlflow=True)\n",
    "\n",
    "# Load the data\n",
    "df = pd.read_csv('https://raw.githubusercontent.com/campusx-official/jupyter-masterclass/main/tweet_emotions.csv').drop(columns=['tweet_id'])\n",
    "df.head()\n",
    "\n",
    "# Define text preprocessing functions\n",
    "def lemmatization(text):\n",
    "    \"\"\"Lemmatize the text.\"\"\"\n",
    "    lemmatizer = WordNetLemmatizer()\n",
    "    text = text.split()\n",
    "    text = [lemmatizer.lemmatize(word) for word in text]\n",
    "    return \" \".join(text)\n",
    "\n",
    "def remove_stop_words(text):\n",
    "    \"\"\"Remove stop words from the text.\"\"\"\n",
    "    stop_words = set(stopwords.words(\"english\"))\n",
    "    text = [word for word in str(text).split() if word not in stop_words]\n",
    "    return \" \".join(text)\n",
    "\n",
    "def removing_numbers(text):\n",
    "    \"\"\"Remove numbers from the text.\"\"\"\n",
    "    text = ''.join([char for char in text if not char.isdigit()])\n",
    "    return text\n",
    "\n",
    "def lower_case(text):\n",
    "    \"\"\"Convert text to lower case.\"\"\"\n",
    "    text = text.split()\n",
    "    text = [word.lower() for word in text]\n",
    "    return \" \".join(text)\n",
    "\n",
    "def removing_punctuations(text):\n",
    "    \"\"\"Remove punctuations from the text.\"\"\"\n",
    "    text = re.sub('[%s]' % re.escape(string.punctuation), ' ', text)\n",
    "    text = text.replace('؛', \"\")\n",
    "    text = re.sub('\\s+', ' ', text).strip()\n",
    "    return text\n",
    "\n",
    "def removing_urls(text):\n",
    "    \"\"\"Remove URLs from the text.\"\"\"\n",
    "    url_pattern = re.compile(r'https?://\\S+|www\\.\\S+')\n",
    "    return url_pattern.sub(r'', text)\n",
    "\n",
    "def normalize_text(df):\n",
    "    \"\"\"Normalize the text data.\"\"\"\n",
    "    try:\n",
    "        df['content'] = df['content'].apply(lower_case)\n",
    "        df['content'] = df['content'].apply(remove_stop_words)\n",
    "        df['content'] = df['content'].apply(removing_numbers)\n",
    "        df['content'] = df['content'].apply(removing_punctuations)\n",
    "        df['content'] = df['content'].apply(removing_urls)\n",
    "        df['content'] = df['content'].apply(lemmatization)\n",
    "        return df\n",
    "    except Exception as e:\n",
    "        print(f'Error during text normalization: {e}')\n",
    "        raise\n",
    "\n",
    "x = df['sentiment'].isin(['happiness','sadness'])\n",
    "df = df[x]\n",
    "\n",
    "# Normalize the text data\n",
    "df = normalize_text(df)\n",
    "\n",
    "df['sentiment'] = df['sentiment'].replace({'sadness':0, 'happiness':1})\n",
    "\n",
    "# Set the experiment name\n",
    "mlflow.set_experiment(\"Bow vs TfIdf\")\n",
    "\n",
    "# Define feature extraction methods\n",
    "vectorizers = {\n",
    "    'BoW': CountVectorizer(),\n",
    "    'TF-IDF': TfidfVectorizer()\n",
    "}\n",
    "\n",
    "# Define algorithms\n",
    "algorithms = {\n",
    "    'LogisticRegression': LogisticRegression(),\n",
    "    'MultinomialNB': MultinomialNB(),\n",
    "    'XGBoost': XGBClassifier(),\n",
    "    'RandomForest': RandomForestClassifier(),\n",
    "    'GradientBoosting': GradientBoostingClassifier()\n",
    "}\n",
    "\n",
    "# Start the parent run\n",
    "with mlflow.start_run(run_name=\"All Experiments\") as parent_run:\n",
    "    # Loop through algorithms and feature extraction methods (Child Runs)\n",
    "    for algo_name, algorithm in algorithms.items():\n",
    "        for vec_name, vectorizer in vectorizers.items():\n",
    "            with mlflow.start_run(run_name=f\"{algo_name} with {vec_name}\", nested=True) as child_run:\n",
    "                X = vectorizer.fit_transform(df['content'])\n",
    "                y = df['sentiment']\n",
    "                X_train, X_test, y_train, y_test = train_test_split(X, y, test_size=0.2, random_state=42)\n",
    "                \n",
    "\n",
    "                # Log preprocessing parameters\n",
    "                mlflow.log_param(\"vectorizer\", vec_name)\n",
    "                mlflow.log_param(\"algorithm\", algo_name)\n",
    "                mlflow.log_param(\"test_size\", 0.2)\n",
    "                \n",
    "                # Model training\n",
    "                model = algorithm\n",
    "                model.fit(X_train, y_train)\n",
    "                \n",
    "                # Log model parameters\n",
    "                if algo_name == 'LogisticRegression':\n",
    "                    mlflow.log_param(\"C\", model.C)\n",
    "                elif algo_name == 'MultinomialNB':\n",
    "                    mlflow.log_param(\"alpha\", model.alpha)\n",
    "                elif algo_name == 'XGBoost':\n",
    "                    mlflow.log_param(\"n_estimators\", model.n_estimators)\n",
    "                    mlflow.log_param(\"learning_rate\", model.learning_rate)\n",
    "                elif algo_name == 'RandomForest':\n",
    "                    mlflow.log_param(\"n_estimators\", model.n_estimators)\n",
    "                    mlflow.log_param(\"max_depth\", model.max_depth)\n",
    "                elif algo_name == 'GradientBoosting':\n",
    "                    mlflow.log_param(\"n_estimators\", model.n_estimators)\n",
    "                    mlflow.log_param(\"learning_rate\", model.learning_rate)\n",
    "                    mlflow.log_param(\"max_depth\", model.max_depth)\n",
    "                \n",
    "                # Model evaluation\n",
    "                y_pred = model.predict(X_test)\n",
    "                accuracy = accuracy_score(y_test, y_pred)\n",
    "                precision = precision_score(y_test, y_pred)\n",
    "                recall = recall_score(y_test, y_pred)\n",
    "                f1 = f1_score(y_test, y_pred)\n",
    "                \n",
    "                # Log evaluation metrics\n",
    "                mlflow.log_metric(\"accuracy\", accuracy)\n",
    "                mlflow.log_metric(\"precision\", precision)\n",
    "                mlflow.log_metric(\"recall\", recall)\n",
    "                mlflow.log_metric(\"f1_score\", f1)\n",
    "                \n",
    "                #signature\n",
    "                signature=mlflow.models.infer_signature(X_train,model.predict(X_train))\n",
    "\n",
    "                # Log model\n",
    "                mlflow.sklearn.log_model(model, \"model\",signature=signature)\n",
    "\n",
    "                #Track the dataset\n",
    "                dataset=mlflow.data.from_pandas(df)\n",
    "                mlflow.log_input(dataset,\"dataset\")\n",
    "                mlflow.log_param(\"random_state\",\"42\")\n",
    "                \n",
    "                # Save and log the notebook\n",
    "                import os\n",
    "                notebook_path = \"experiment_2_BOW_vs_TFIDF.ipynb\"\n",
    "                os.system(f\"jupyter nbconvert --to notebook --execute --inplace {notebook_path}\")\n",
    "                mlflow.log_artifact(notebook_path)      \n",
    "\n",
    "                # Print the results for verification\n",
    "                print(f\"Algorithm: {algo_name}, Feature Engineering: {vec_name}\")\n",
    "                print(f\"Accuracy: {accuracy}\")\n",
    "                print(f\"Precision: {precision}\")\n",
    "                print(f\"Recall: {recall}\")\n",
    "                print(f\"F1 Score: {f1}\")"
   ]
  },
  {
   "cell_type": "code",
   "execution_count": null,
   "metadata": {},
   "outputs": [],
   "source": []
  }
 ],
 "metadata": {
  "kernelspec": {
   "display_name": "Python 3",
   "language": "python",
   "name": "python3"
  },
  "language_info": {
   "codemirror_mode": {
    "name": "ipython",
    "version": 3
   },
   "file_extension": ".py",
   "mimetype": "text/x-python",
   "name": "python",
   "nbconvert_exporter": "python",
   "pygments_lexer": "ipython3",
   "version": "3.10.15"
  }
 },
 "nbformat": 4,
 "nbformat_minor": 2
}
