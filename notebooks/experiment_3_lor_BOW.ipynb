{
 "cells": [
  {
   "cell_type": "code",
   "execution_count": 2,
   "metadata": {},
   "outputs": [
    {
     "data": {
      "text/html": [
       "<pre style=\"white-space:pre;overflow-x:auto;line-height:normal;font-family:Menlo,'DejaVu Sans Mono',consolas,'Courier New',monospace\">Initialized MLflow to track repo <span style=\"color: #008000; text-decoration-color: #008000\">\"2003HARSH/Text-Classification-using-MLOps\"</span>\n",
       "</pre>\n"
      ],
      "text/plain": [
       "Initialized MLflow to track repo \u001b[32m\"2003HARSH/Text-Classification-using-MLOps\"\u001b[0m\n"
      ]
     },
     "metadata": {},
     "output_type": "display_data"
    },
    {
     "data": {
      "text/html": [
       "<pre style=\"white-space:pre;overflow-x:auto;line-height:normal;font-family:Menlo,'DejaVu Sans Mono',consolas,'Courier New',monospace\">Repository 2003HARSH/Text-Classification-using-MLOps initialized!\n",
       "</pre>\n"
      ],
      "text/plain": [
       "Repository 2003HARSH/Text-Classification-using-MLOps initialized!\n"
      ]
     },
     "metadata": {},
     "output_type": "display_data"
    },
    {
     "name": "stderr",
     "output_type": "stream",
     "text": [
      "C:\\Users\\harsh\\AppData\\Local\\Temp\\ipykernel_17140\\806408143.py:85: FutureWarning: Downcasting behavior in `replace` is deprecated and will be removed in a future version. To retain the old behavior, explicitly call `result.infer_objects(copy=False)`. To opt-in to the future behavior, set `pd.set_option('future.no_silent_downcasting', True)`\n",
      "  df['sentiment'] = df['sentiment'].replace({'sadness':0, 'happiness':1})\n",
      "c:\\Users\\harsh\\Desktop\\Text-Classification-using-MLOps\\venv\\lib\\site-packages\\mlflow\\types\\utils.py:407: UserWarning: Hint: Inferred schema contains integer column(s). Integer columns in Python cannot represent missing values. If your input data contains missing values at inference time, it will be encoded as floats and will cause a schema enforcement error. The best way to avoid this problem is to infer the model schema based on a realistic data sample (training dataset) that includes missing values. Alternatively, you can declare integer columns as doubles (float64) whenever these columns may have missing values. See `Handling Integers With Missing Values <https://www.mlflow.org/docs/latest/models.html#handling-integers-with-missing-values>`_ for more details.\n",
      "  warnings.warn(\n"
     ]
    },
    {
     "name": "stdout",
     "output_type": "stream",
     "text": [
      "Mean CV Score: 0.7050121790562888, Std CV Score: 0.014034901421846454\n",
      "Accuracy: 0.739277108433735\n",
      "Precision: 0.7749419953596288\n",
      "Recall: 0.6581280788177339\n",
      "F1 Score: 0.7117741076185402\n"
     ]
    },
    {
     "name": "stderr",
     "output_type": "stream",
     "text": [
      "2024/11/04 19:25:34 INFO mlflow.tracking._tracking_service.client: 🏃 View run LR with params: {'C': 0.1, 'penalty': 'l1', 'solver': 'liblinear'} at: https://dagshub.com/2003HARSH/Text-Classification-using-MLOps.mlflow/#/experiments/3/runs/e3d93d616c5a4bd994e45af857582bde.\n",
      "2024/11/04 19:25:34 INFO mlflow.tracking._tracking_service.client: 🧪 View experiment at: https://dagshub.com/2003HARSH/Text-Classification-using-MLOps.mlflow/#/experiments/3.\n",
      "c:\\Users\\harsh\\Desktop\\Text-Classification-using-MLOps\\venv\\lib\\site-packages\\mlflow\\types\\utils.py:407: UserWarning: Hint: Inferred schema contains integer column(s). Integer columns in Python cannot represent missing values. If your input data contains missing values at inference time, it will be encoded as floats and will cause a schema enforcement error. The best way to avoid this problem is to infer the model schema based on a realistic data sample (training dataset) that includes missing values. Alternatively, you can declare integer columns as doubles (float64) whenever these columns may have missing values. See `Handling Integers With Missing Values <https://www.mlflow.org/docs/latest/models.html#handling-integers-with-missing-values>`_ for more details.\n",
      "  warnings.warn(\n"
     ]
    },
    {
     "name": "stdout",
     "output_type": "stream",
     "text": [
      "Mean CV Score: 0.7799418860816889, Std CV Score: 0.011174824136692763\n",
      "Accuracy: 0.7898795180722892\n",
      "Precision: 0.7818889970788705\n",
      "Recall: 0.7911330049261084\n",
      "F1 Score: 0.7864838393731636\n"
     ]
    },
    {
     "name": "stderr",
     "output_type": "stream",
     "text": [
      "2024/11/04 19:26:18 INFO mlflow.tracking._tracking_service.client: 🏃 View run LR with params: {'C': 0.1, 'penalty': 'l2', 'solver': 'liblinear'} at: https://dagshub.com/2003HARSH/Text-Classification-using-MLOps.mlflow/#/experiments/3/runs/5018706a266248f1a59a0cc7026de3a0.\n",
      "2024/11/04 19:26:18 INFO mlflow.tracking._tracking_service.client: 🧪 View experiment at: https://dagshub.com/2003HARSH/Text-Classification-using-MLOps.mlflow/#/experiments/3.\n",
      "c:\\Users\\harsh\\Desktop\\Text-Classification-using-MLOps\\venv\\lib\\site-packages\\mlflow\\types\\utils.py:407: UserWarning: Hint: Inferred schema contains integer column(s). Integer columns in Python cannot represent missing values. If your input data contains missing values at inference time, it will be encoded as floats and will cause a schema enforcement error. The best way to avoid this problem is to infer the model schema based on a realistic data sample (training dataset) that includes missing values. Alternatively, you can declare integer columns as doubles (float64) whenever these columns may have missing values. See `Handling Integers With Missing Values <https://www.mlflow.org/docs/latest/models.html#handling-integers-with-missing-values>`_ for more details.\n",
      "  warnings.warn(\n"
     ]
    },
    {
     "name": "stdout",
     "output_type": "stream",
     "text": [
      "Mean CV Score: 0.7832047930450089, Std CV Score: 0.008669249705645579\n",
      "Accuracy: 0.7826506024096386\n",
      "Precision: 0.7737864077669903\n",
      "Recall: 0.7852216748768472\n",
      "F1 Score: 0.7794621026894866\n"
     ]
    },
    {
     "name": "stderr",
     "output_type": "stream",
     "text": [
      "2024/11/04 19:26:44 INFO mlflow.tracking._tracking_service.client: 🏃 View run LR with params: {'C': 1, 'penalty': 'l1', 'solver': 'liblinear'} at: https://dagshub.com/2003HARSH/Text-Classification-using-MLOps.mlflow/#/experiments/3/runs/d452980e6c254ac3821feb38093e0e5f.\n",
      "2024/11/04 19:26:44 INFO mlflow.tracking._tracking_service.client: 🧪 View experiment at: https://dagshub.com/2003HARSH/Text-Classification-using-MLOps.mlflow/#/experiments/3.\n",
      "c:\\Users\\harsh\\Desktop\\Text-Classification-using-MLOps\\venv\\lib\\site-packages\\mlflow\\types\\utils.py:407: UserWarning: Hint: Inferred schema contains integer column(s). Integer columns in Python cannot represent missing values. If your input data contains missing values at inference time, it will be encoded as floats and will cause a schema enforcement error. The best way to avoid this problem is to infer the model schema based on a realistic data sample (training dataset) that includes missing values. Alternatively, you can declare integer columns as doubles (float64) whenever these columns may have missing values. See `Handling Integers With Missing Values <https://www.mlflow.org/docs/latest/models.html#handling-integers-with-missing-values>`_ for more details.\n",
      "  warnings.warn(\n"
     ]
    },
    {
     "name": "stdout",
     "output_type": "stream",
     "text": [
      "Mean CV Score: 0.7896190577231609, Std CV Score: 0.009516635610449384\n",
      "Accuracy: 0.7932530120481928\n",
      "Precision: 0.7833655705996132\n",
      "Recall: 0.7980295566502463\n",
      "F1 Score: 0.7906295754026355\n"
     ]
    },
    {
     "name": "stderr",
     "output_type": "stream",
     "text": [
      "2024/11/04 19:27:14 INFO mlflow.tracking._tracking_service.client: 🏃 View run LR with params: {'C': 1, 'penalty': 'l2', 'solver': 'liblinear'} at: https://dagshub.com/2003HARSH/Text-Classification-using-MLOps.mlflow/#/experiments/3/runs/26994712f9f642929d10106b48c2180b.\n",
      "2024/11/04 19:27:14 INFO mlflow.tracking._tracking_service.client: 🧪 View experiment at: https://dagshub.com/2003HARSH/Text-Classification-using-MLOps.mlflow/#/experiments/3.\n",
      "c:\\Users\\harsh\\Desktop\\Text-Classification-using-MLOps\\venv\\lib\\site-packages\\mlflow\\types\\utils.py:407: UserWarning: Hint: Inferred schema contains integer column(s). Integer columns in Python cannot represent missing values. If your input data contains missing values at inference time, it will be encoded as floats and will cause a schema enforcement error. The best way to avoid this problem is to infer the model schema based on a realistic data sample (training dataset) that includes missing values. Alternatively, you can declare integer columns as doubles (float64) whenever these columns may have missing values. See `Handling Integers With Missing Values <https://www.mlflow.org/docs/latest/models.html#handling-integers-with-missing-values>`_ for more details.\n",
      "  warnings.warn(\n"
     ]
    },
    {
     "name": "stdout",
     "output_type": "stream",
     "text": [
      "Mean CV Score: 0.7707154416608146, Std CV Score: 0.01034326215100657\n",
      "Accuracy: 0.7816867469879518\n",
      "Precision: 0.777120315581854\n",
      "Recall: 0.7763546798029557\n",
      "F1 Score: 0.7767373090192213\n"
     ]
    },
    {
     "name": "stderr",
     "output_type": "stream",
     "text": [
      "2024/11/04 19:28:00 INFO mlflow.tracking._tracking_service.client: 🏃 View run LR with params: {'C': 10, 'penalty': 'l1', 'solver': 'liblinear'} at: https://dagshub.com/2003HARSH/Text-Classification-using-MLOps.mlflow/#/experiments/3/runs/cd5f9bfcd6674f3289cc444c3fda71c8.\n",
      "2024/11/04 19:28:00 INFO mlflow.tracking._tracking_service.client: 🧪 View experiment at: https://dagshub.com/2003HARSH/Text-Classification-using-MLOps.mlflow/#/experiments/3.\n",
      "c:\\Users\\harsh\\Desktop\\Text-Classification-using-MLOps\\venv\\lib\\site-packages\\mlflow\\types\\utils.py:407: UserWarning: Hint: Inferred schema contains integer column(s). Integer columns in Python cannot represent missing values. If your input data contains missing values at inference time, it will be encoded as floats and will cause a schema enforcement error. The best way to avoid this problem is to infer the model schema based on a realistic data sample (training dataset) that includes missing values. Alternatively, you can declare integer columns as doubles (float64) whenever these columns may have missing values. See `Handling Integers With Missing Values <https://www.mlflow.org/docs/latest/models.html#handling-integers-with-missing-values>`_ for more details.\n",
      "  warnings.warn(\n"
     ]
    },
    {
     "name": "stdout",
     "output_type": "stream",
     "text": [
      "Mean CV Score: 0.7806493249611147, Std CV Score: 0.004790409981330255\n",
      "Accuracy: 0.7826506024096386\n",
      "Precision: 0.7706333973128598\n",
      "Recall: 0.7911330049261084\n",
      "F1 Score: 0.7807486631016043\n"
     ]
    },
    {
     "name": "stderr",
     "output_type": "stream",
     "text": [
      "2024/11/04 19:28:25 INFO mlflow.tracking._tracking_service.client: 🏃 View run LR with params: {'C': 10, 'penalty': 'l2', 'solver': 'liblinear'} at: https://dagshub.com/2003HARSH/Text-Classification-using-MLOps.mlflow/#/experiments/3/runs/641bd6afde8044998b0907a44c54af00.\n",
      "2024/11/04 19:28:25 INFO mlflow.tracking._tracking_service.client: 🧪 View experiment at: https://dagshub.com/2003HARSH/Text-Classification-using-MLOps.mlflow/#/experiments/3.\n"
     ]
    },
    {
     "name": "stdout",
     "output_type": "stream",
     "text": [
      "Best Params: {'C': 1, 'penalty': 'l2', 'solver': 'liblinear'}\n",
      "Best F1 Score: 0.7896190577231609\n"
     ]
    },
    {
     "name": "stderr",
     "output_type": "stream",
     "text": [
      "2024/11/04 19:28:32 WARNING mlflow.models.model: Model logged without a signature and input example. Please set `input_example` parameter when logging the model to auto infer the model signature.\n",
      "2024/11/04 19:28:37 INFO mlflow.tracking._tracking_service.client: 🏃 View run useful-squirrel-255 at: https://dagshub.com/2003HARSH/Text-Classification-using-MLOps.mlflow/#/experiments/3/runs/d82ecb75dcc444b9b65847bb3c47f667.\n",
      "2024/11/04 19:28:37 INFO mlflow.tracking._tracking_service.client: 🧪 View experiment at: https://dagshub.com/2003HARSH/Text-Classification-using-MLOps.mlflow/#/experiments/3.\n"
     ]
    }
   ],
   "source": [
    "# hyperparameter tuning\n",
    "\n",
    "# Import necessary libraries\n",
    "import mlflow\n",
    "import mlflow.sklearn\n",
    "from sklearn.feature_extraction.text import CountVectorizer\n",
    "from sklearn.model_selection import train_test_split, GridSearchCV\n",
    "from sklearn.linear_model import LogisticRegression\n",
    "from sklearn.metrics import accuracy_score, precision_score, recall_score, f1_score\n",
    "import pandas as pd\n",
    "import re\n",
    "import string\n",
    "from nltk.corpus import stopwords\n",
    "from nltk.stem import WordNetLemmatizer\n",
    "import numpy as np\n",
    "import os\n",
    "import dagshub\n",
    "\n",
    "mlflow.set_tracking_uri('https://dagshub.com/2003HARSH/Text-Classification-using-MLOps.mlflow')\n",
    "dagshub.init(repo_owner='2003HARSH', repo_name='Text-Classification-using-MLOps', mlflow=True)\n",
    "\n",
    "# Load the data\n",
    "# Load the data\n",
    "df = pd.read_csv('https://raw.githubusercontent.com/campusx-official/jupyter-masterclass/main/tweet_emotions.csv').drop(columns=['tweet_id'])\n",
    "\n",
    "\n",
    "# Define text preprocessing functions\n",
    "def lemmatization(text):\n",
    "    \"\"\"Lemmatize the text.\"\"\"\n",
    "    lemmatizer = WordNetLemmatizer()\n",
    "    text = text.split()\n",
    "    text = [lemmatizer.lemmatize(word) for word in text]\n",
    "    return \" \".join(text)\n",
    "\n",
    "def remove_stop_words(text):\n",
    "    \"\"\"Remove stop words from the text.\"\"\"\n",
    "    stop_words = set(stopwords.words(\"english\"))\n",
    "    text = [word for word in str(text).split() if word not in stop_words]\n",
    "    return \" \".join(text)\n",
    "\n",
    "def removing_numbers(text):\n",
    "    \"\"\"Remove numbers from the text.\"\"\"\n",
    "    text = ''.join([char for char in text if not char.isdigit()])\n",
    "    return text\n",
    "\n",
    "def lower_case(text):\n",
    "    \"\"\"Convert text to lower case.\"\"\"\n",
    "    text = text.split()\n",
    "    text = [word.lower() for word in text]\n",
    "    return \" \".join(text)\n",
    "\n",
    "def removing_punctuations(text):\n",
    "    \"\"\"Remove punctuations from the text.\"\"\"\n",
    "    text = re.sub('[%s]' % re.escape(string.punctuation), ' ', text)\n",
    "    text = text.replace('؛', \"\")\n",
    "    text = re.sub('\\s+', ' ', text).strip()\n",
    "    return text\n",
    "\n",
    "def removing_urls(text):\n",
    "    \"\"\"Remove URLs from the text.\"\"\"\n",
    "    url_pattern = re.compile(r'https?://\\S+|www\\.\\S+')\n",
    "    return url_pattern.sub(r'', text)\n",
    "\n",
    "def normalize_text(df):\n",
    "    \"\"\"Normalize the text data.\"\"\"\n",
    "    try:\n",
    "        df['content'] = df['content'].apply(lower_case)\n",
    "        df['content'] = df['content'].apply(remove_stop_words)\n",
    "        df['content'] = df['content'].apply(removing_numbers)\n",
    "        df['content'] = df['content'].apply(removing_punctuations)\n",
    "        df['content'] = df['content'].apply(removing_urls)\n",
    "        df['content'] = df['content'].apply(lemmatization)\n",
    "        return df\n",
    "    except Exception as e:\n",
    "        print(f'Error during text normalization: {e}')\n",
    "        raise\n",
    "\n",
    "\n",
    "x = df['sentiment'].isin(['happiness','sadness'])\n",
    "df = df[x]\n",
    "\n",
    "# Normalize the text data\n",
    "df = normalize_text(df)\n",
    "\n",
    "df['sentiment'] = df['sentiment'].replace({'sadness':0, 'happiness':1})\n",
    "\n",
    "vectorizer = CountVectorizer() #BOW\n",
    "X = vectorizer.fit_transform(df['content'])\n",
    "y = df['sentiment']\n",
    "X_train, X_test, y_train, y_test = train_test_split(X, y, test_size=0.2, random_state=42)\n",
    "\n",
    "# Set the experiment name\n",
    "mlflow.set_experiment(\"LoR Hyperparameter Tuning\")\n",
    "\n",
    "# Define hyperparameter grid for Logistic Regression\n",
    "param_grid = {\n",
    "    'C': [0.1, 1, 10],\n",
    "    'penalty': ['l1', 'l2'],\n",
    "    'solver': ['liblinear']\n",
    "}\n",
    "\n",
    "# Start the parent run for hyperparameter tuning\n",
    "with mlflow.start_run():\n",
    "\n",
    "    # Perform grid search\n",
    "    grid_search = GridSearchCV(LogisticRegression(), param_grid, cv=5, scoring='f1', n_jobs=-1)\n",
    "    grid_search.fit(X_train, y_train)\n",
    "\n",
    "    # Log each parameter combination as a child run\n",
    "    for params, mean_score, std_score in zip(grid_search.cv_results_['params'], grid_search.cv_results_['mean_test_score'], grid_search.cv_results_['std_test_score']):\n",
    "        with mlflow.start_run(run_name=f\"LR with params: {params}\", nested=True):\n",
    "            model = LogisticRegression(**params)\n",
    "            model.fit(X_train, y_train)\n",
    "            \n",
    "            # Model evaluation\n",
    "            y_pred = model.predict(X_test)\n",
    "            accuracy = accuracy_score(y_test, y_pred)\n",
    "            precision = precision_score(y_test, y_pred)\n",
    "            recall = recall_score(y_test, y_pred)\n",
    "            f1 = f1_score(y_test, y_pred)\n",
    "            \n",
    "            # Log parameters and metrics\n",
    "            mlflow.log_params(params)\n",
    "            mlflow.log_metric(\"mean_cv_score\", mean_score)\n",
    "            mlflow.log_metric(\"std_cv_score\", std_score)\n",
    "            mlflow.log_metric(\"accuracy\", accuracy)\n",
    "            mlflow.log_metric(\"precision\", precision)\n",
    "            mlflow.log_metric(\"recall\", recall)\n",
    "            mlflow.log_metric(\"f1_score\", f1)\n",
    "\n",
    "            #Track the dataset\n",
    "            dataset=mlflow.data.from_pandas(df)\n",
    "            mlflow.log_input(dataset,\"dataset\")\n",
    "            mlflow.log_param(\"random_state\",\"42\")\n",
    "            \n",
    "            # Print the results for verification\n",
    "            print(f\"Mean CV Score: {mean_score}, Std CV Score: {std_score}\")\n",
    "            print(f\"Accuracy: {accuracy}\")\n",
    "            print(f\"Precision: {precision}\")\n",
    "            print(f\"Recall: {recall}\")\n",
    "            print(f\"F1 Score: {f1}\")\n",
    "\n",
    "    # Log the best run details in the parent run\n",
    "    best_params = grid_search.best_params_\n",
    "    best_score = grid_search.best_score_\n",
    "    mlflow.log_params(best_params)\n",
    "    mlflow.log_metric(\"best_f1_score\", best_score)\n",
    "    \n",
    "    print(f\"Best Params: {best_params}\")\n",
    "    print(f\"Best F1 Score: {best_score}\")\n",
    "\n",
    "    import os\n",
    "    notebook_path = \"experiment_1_baseline.ipynb\"\n",
    "    os.system(f\"jupyter nbconvert --to notebook --execute --inplace {notebook_path}\")\n",
    "    mlflow.log_artifact(notebook_path)\n",
    "\n",
    "    # Log model\n",
    "    mlflow.sklearn.log_model(grid_search.best_estimator_, \"model\")"
   ]
  },
  {
   "cell_type": "code",
   "execution_count": null,
   "metadata": {},
   "outputs": [],
   "source": []
  }
 ],
 "metadata": {
  "kernelspec": {
   "display_name": "Python 3",
   "language": "python",
   "name": "python3"
  },
  "language_info": {
   "codemirror_mode": {
    "name": "ipython",
    "version": 3
   },
   "file_extension": ".py",
   "mimetype": "text/x-python",
   "name": "python",
   "nbconvert_exporter": "python",
   "pygments_lexer": "ipython3",
   "version": "3.10.15"
  }
 },
 "nbformat": 4,
 "nbformat_minor": 2
}
